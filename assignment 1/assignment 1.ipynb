{
 "cells": [
  {
   "cell_type": "markdown",
   "metadata": {},
   "source": [
    "## Greatest of 4 numbers"
   ]
  },
  {
   "cell_type": "code",
   "execution_count": 1,
   "metadata": {},
   "outputs": [
    {
     "name": "stdout",
     "output_type": "stream",
     "text": [
      "Enter 4 numbers seperated by commas(','):\n",
      "42,73,101,96\n",
      "101 is the greatest number!\n"
     ]
    }
   ],
   "source": [
    "n1, n2, n3, n4 = list(\n",
    "    map(int, input(\"Enter 4 numbers seperated by commas(','):\\n\").split(',')))\n",
    "\n",
    "if n1 > n2 and n1 > n3 and n1 > n4:\n",
    "    print(f\"{n1} is the greatest number!\")\n",
    "elif n2 > n3 and n2 > n4:\n",
    "    print(f\"{n2} is the greatest number!\")\n",
    "elif n3 > n4:\n",
    "    print(f\"{n3} is the greatest number!\")\n",
    "else:\n",
    "    print(f\"{n4} is the greatest number!\")"
   ]
  },
  {
   "cell_type": "markdown",
   "metadata": {},
   "source": [
    "## Positive or negative number"
   ]
  },
  {
   "cell_type": "code",
   "execution_count": 2,
   "metadata": {},
   "outputs": [
    {
     "name": "stdout",
     "output_type": "stream",
     "text": [
      "Enter a number:\n",
      "-42\n",
      "-42 is a negative number\n"
     ]
    }
   ],
   "source": [
    "n = int(input(\"Enter a number:\\n\"))\n",
    "\n",
    "if n == 0:\n",
    "    print(\"0 is neither positive nor negative!\")\n",
    "elif n > 0:\n",
    "    print(f\"{n} is a positive number\")\n",
    "else:\n",
    "    print(f\"{n} is a negative number\")"
   ]
  },
  {
   "cell_type": "markdown",
   "metadata": {},
   "source": [
    "## Odd or Even number"
   ]
  },
  {
   "cell_type": "code",
   "execution_count": 3,
   "metadata": {},
   "outputs": [
    {
     "name": "stdout",
     "output_type": "stream",
     "text": [
      "Enter a number:\n",
      "99\n",
      "99 is an odd number\n"
     ]
    }
   ],
   "source": [
    "n = int(input(\"Enter a number:\\n\"))\n",
    "\n",
    "if n % 2 == 0:\n",
    "    print(f\"{n} is an even number\")\n",
    "else:\n",
    "    print(f\"{n} is an odd number\")"
   ]
  },
  {
   "cell_type": "markdown",
   "metadata": {},
   "source": [
    "## ATM Simulator"
   ]
  },
  {
   "cell_type": "code",
   "execution_count": 1,
   "metadata": {},
   "outputs": [],
   "source": [
    "from random import randint\n",
    "user_dict = {'admin': {'pin': 1234, 'balance': 0}}\n",
    "\n",
    "\n",
    "def add_user():\n",
    "    user_name = input(\"\\nPlease choose a username:\\n\").strip()\n",
    "    if user_name in user_dict:\n",
    "        print('Username already exists! Please choose another one')\n",
    "        add_user()\n",
    "    else:\n",
    "        gen_pin(user_name)\n",
    "\n",
    "\n",
    "def gen_pin(user_name):\n",
    "    pin = randint(1000, 9999)\n",
    "    user_dict[user_name] = {'pin': pin, 'balance': 0}\n",
    "    print(f\"Your pin is: {pin}\")\n",
    "    print(\"Successfully created account!\")\n",
    "\n",
    "\n",
    "def validate_user():\n",
    "    user_name = input(\"\\nPlease enter your username:\\n\").strip()\n",
    "    pin = int(input(\"Please enter your pin:\\n\").strip())\n",
    "    if user_name in user_dict:\n",
    "        if user_dict[user_name]['pin'] == pin:\n",
    "            print('Successfully logged in!')\n",
    "        else:\n",
    "            print('Wrong pin!')\n",
    "            validate_user()\n",
    "    else:\n",
    "        print('User not found!')\n",
    "        validate_user()\n",
    "    return user_name, pin\n",
    "\n",
    "\n",
    "def login():\n",
    "    user_name, pin = validate_user()\n",
    "    while True:\n",
    "        choice = int(input(\n",
    "            \"Enter choice:\\n1.View Balance\\n2.Deposit Amount\\n3.Withdraw Amount\\n4.Exit\\n\"))\n",
    "        if choice not in range(1, 5):\n",
    "            print(\"Enter correct choice!\")\n",
    "            login()\n",
    "        elif choice == 1:\n",
    "            print(f\"\\nCurrent balance: {balance(user_name)}\")\n",
    "        elif choice == 2:\n",
    "            deposit(user_name)\n",
    "        elif choice == 3:\n",
    "            withdraw(user_name)\n",
    "        elif choice == 4:\n",
    "            break\n",
    "\n",
    "\n",
    "def balance(user_name):\n",
    "    return user_dict[user_name]['balance']\n",
    "\n",
    "\n",
    "def check_multiple(num):\n",
    "    return num > 0 and (num % 100 == 0 or num % 500 == 0 or num % 2000 == 0)\n",
    "\n",
    "\n",
    "def deposit(user_name):\n",
    "    amount = int(\n",
    "        input(\"Enter amount to be deposited:\\nShould be multiple of 100,500 or 2000!\\n\"))\n",
    "    if check_multiple(amount):\n",
    "        user_dict[user_name]['balance'] += amount\n",
    "        print(f\"Current balance: {balance(user_name)}\")\n",
    "    else:\n",
    "        print(\"Amount should be multiple of 100,500 or 2000!\")\n",
    "        deposit(user_name)\n",
    "\n",
    "\n",
    "def withdraw(user_name):\n",
    "    amount = int(\n",
    "        input(\"Enter amount to be withdrawn:\\nShould be multiple of 100,500 or 2000!\\n\"))\n",
    "    if check_multiple(amount):\n",
    "        if amount > balance(user_name):\n",
    "            print(\"Insufficient balance!\")\n",
    "            print(f\"Current balance: {balance(user_name)}\")\n",
    "        else:\n",
    "            user_dict[user_name]['balance'] -= amount\n",
    "            print(f\"Current balance: {balance(user_name)}\")\n",
    "    else:\n",
    "        print(\"Amount should be multiple of 100,500 or 2000!\")\n",
    "        withdraw(user_name)\n",
    "\n",
    "\n",
    "def main(choice):\n",
    "    if choice == 1:\n",
    "        add_user()\n",
    "    elif choice == 2:\n",
    "        login()\n",
    "    elif choice == 3:\n",
    "        exit()"
   ]
  },
  {
   "cell_type": "code",
   "execution_count": 2,
   "metadata": {},
   "outputs": [
    {
     "name": "stdout",
     "output_type": "stream",
     "text": [
      "\n",
      "Enter choice:\n",
      "1.Create Account\n",
      "2.Login to existing account\n",
      "3.Exit\n",
      "1\n",
      "\n",
      "Please choose a username:\n",
      "admin\n",
      "Username already exists! Please choose another one\n",
      "\n",
      "Please choose a username:\n",
      "prajwal\n",
      "Your pin is: 1334\n",
      "Successfully created account!\n",
      "\n",
      "Enter choice:\n",
      "1.Create Account\n",
      "2.Login to existing account\n",
      "3.Exit\n",
      "2\n",
      "\n",
      "Please enter your username:\n",
      "prajwal\n",
      "Please enter your pin:\n",
      "1234\n",
      "Wrong pin!\n",
      "\n",
      "Please enter your username:\n",
      "prajwal\n",
      "Please enter your pin:\n",
      "1334\n",
      "Successfully logged in!\n",
      "Enter choice:\n",
      "1.View Balance\n",
      "2.Deposit Amount\n",
      "3.Withdraw Amount\n",
      "4.Exit\n",
      "1\n",
      "\n",
      "Current balance: 0\n",
      "Enter choice:\n",
      "1.View Balance\n",
      "2.Deposit Amount\n",
      "3.Withdraw Amount\n",
      "4.Exit\n",
      "2\n",
      "Enter amount to be deposited:\n",
      "Should be multiple of 100,500 or 2000!\n",
      "10000\n",
      "Current balance: 10000\n",
      "Enter choice:\n",
      "1.View Balance\n",
      "2.Deposit Amount\n",
      "3.Withdraw Amount\n",
      "4.Exit\n",
      "3\n",
      "Enter amount to be withdrawn:\n",
      "Should be multiple of 100,500 or 2000!\n",
      "50000\n",
      "Insufficient balance!\n",
      "Current balance: 10000\n",
      "Enter choice:\n",
      "1.View Balance\n",
      "2.Deposit Amount\n",
      "3.Withdraw Amount\n",
      "4.Exit\n",
      "3\n",
      "Enter amount to be withdrawn:\n",
      "Should be multiple of 100,500 or 2000!\n",
      "5000\n",
      "Current balance: 5000\n",
      "Enter choice:\n",
      "1.View Balance\n",
      "2.Deposit Amount\n",
      "3.Withdraw Amount\n",
      "4.Exit\n",
      "4\n",
      "\n",
      "Enter choice:\n",
      "1.Create Account\n",
      "2.Login to existing account\n",
      "3.Exit\n",
      "3\n"
     ]
    }
   ],
   "source": [
    "while True:\n",
    "    choice = int(\n",
    "        input(\"\\nEnter choice:\\n1.Create Account\\n2.Login to existing account\\n3.Exit\\n\"))\n",
    "    if choice not in range(1, 4):\n",
    "        print(\"Enter correct choice!\")\n",
    "    elif choice == 3:\n",
    "        break\n",
    "    else:\n",
    "        main(choice)"
   ]
  },
  {
   "cell_type": "code",
   "execution_count": null,
   "metadata": {},
   "outputs": [],
   "source": []
  }
 ],
 "metadata": {
  "kernelspec": {
   "display_name": "Python 3",
   "language": "python",
   "name": "python3"
  },
  "language_info": {
   "codemirror_mode": {
    "name": "ipython",
    "version": 3
   },
   "file_extension": ".py",
   "mimetype": "text/x-python",
   "name": "python",
   "nbconvert_exporter": "python",
   "pygments_lexer": "ipython3",
   "version": "3.8.5"
  }
 },
 "nbformat": 4,
 "nbformat_minor": 4
}
