{
 "cells": [
  {
   "cell_type": "markdown",
   "metadata": {},
   "source": [
    "### 1. Program to accept first and last name from the user and print it in reverse order."
   ]
  },
  {
   "cell_type": "code",
   "execution_count": 1,
   "metadata": {},
   "outputs": [
    {
     "name": "stdout",
     "output_type": "stream",
     "text": [
      "Enter first name and last name:\n",
      "Prajwal Srinivas\n",
      "Name in reverse order: Srinivas Prajwal\n"
     ]
    }
   ],
   "source": [
    "first_name, last_name = input(\"Enter first name and last name:\\n\").split()\n",
    "print(f\"Name in reverse order: {last_name} {first_name}\")"
   ]
  },
  {
   "cell_type": "markdown",
   "metadata": {},
   "source": [
    "### 2. Program to accept a sequence of numbers from the user and return a list and tuple containing the numbers."
   ]
  },
  {
   "cell_type": "code",
   "execution_count": 2,
   "metadata": {},
   "outputs": [
    {
     "name": "stdout",
     "output_type": "stream",
     "text": [
      "Enter a sequence of numbers seperated by commas:\n",
      "1,2,3,4,5\n",
      "List of numbers: [1, 2, 3, 4, 5]\n",
      "Tuple of numbers: (1, 2, 3, 4, 5)\n"
     ]
    }
   ],
   "source": [
    "num_list = list(map(int, input(\"Enter a sequence of numbers seperated by commas:\\n\").split(',')))\n",
    "print(f\"List of numbers: {num_list}\")\n",
    "print(f\"Tuple of numbers: {tuple(num_list)}\")"
   ]
  },
  {
   "cell_type": "markdown",
   "metadata": {},
   "source": [
    "### 3. Program to print the first and last element in a list."
   ]
  },
  {
   "cell_type": "code",
   "execution_count": 3,
   "metadata": {},
   "outputs": [
    {
     "name": "stdout",
     "output_type": "stream",
     "text": [
      "Enter a sequence of numbers seperated by commas:\n",
      "2,4,6,8,10\n",
      "First number in the list: 2\n",
      "Last number in the list: 10\n"
     ]
    }
   ],
   "source": [
    "num_list = list(map(int, input(\"Enter a sequence of numbers seperated by commas:\\n\").split(',')))\n",
    "print(f\"First number in the list: {num_list[0]}\")\n",
    "print(f\"Last number in the list: {num_list[-1]}\")"
   ]
  },
  {
   "cell_type": "markdown",
   "metadata": {},
   "source": [
    "### 4. Program to print fibonacci series."
   ]
  },
  {
   "cell_type": "code",
   "execution_count": 5,
   "metadata": {},
   "outputs": [
    {
     "name": "stdout",
     "output_type": "stream",
     "text": [
      "How many elements of the fibonacci series do you want?:\n",
      "10\n",
      "First 10 elements of the fibonacci series are: \n",
      "0 1 1 2 3 5 8 13 21 34 "
     ]
    }
   ],
   "source": [
    "def fibonacci(n):\n",
    "    if n <= 0:\n",
    "        print(\"Wrong input!\")\n",
    "    elif n == 1:\n",
    "        return 0\n",
    "    elif n == 2:\n",
    "        return 1\n",
    "    else:\n",
    "        return fibonacci(n-1) + fibonacci(n-2)\n",
    "\n",
    "\n",
    "n = int(input(\"How many elements of the fibonacci series do you want?:\\n\"))\n",
    "print(f\"First {n} elements of the fibonacci series are: \")\n",
    "for i in range(1, n+1):\n",
    "    print(fibonacci(i), end=\" \")"
   ]
  },
  {
   "cell_type": "markdown",
   "metadata": {},
   "source": [
    "### 5. Program to check if a given character is a vowel."
   ]
  },
  {
   "cell_type": "code",
   "execution_count": 6,
   "metadata": {},
   "outputs": [
    {
     "name": "stdout",
     "output_type": "stream",
     "text": [
      "Enter a character:\n",
      "u\n",
      "u is a Vowel!\n"
     ]
    }
   ],
   "source": [
    "character = input(\"Enter a character:\\n\")\n",
    "if character.lower() in list(\"aeiou\"):\n",
    "    print(f\"{character} is a Vowel!\")\n",
    "else:\n",
    "    print(f\"{character} is not a Vowel!\")"
   ]
  },
  {
   "cell_type": "markdown",
   "metadata": {},
   "source": [
    "### 6. Program to check if a given number is present in a list"
   ]
  },
  {
   "cell_type": "code",
   "execution_count": 7,
   "metadata": {},
   "outputs": [
    {
     "name": "stdout",
     "output_type": "stream",
     "text": [
      "Enter elements:\n",
      "10,20,30,40,50\n",
      "Enter a number:\n",
      "30\n",
      "30 is present in [10, 20, 30, 40, 50]\n"
     ]
    }
   ],
   "source": [
    "lst = list(map(int, input(\"Enter elements:\\n\").split(',')))\n",
    "num = int(input(\"Enter a number:\\n\"))\n",
    "if num in lst:\n",
    "    print(f\"{num} is present in {lst}\")\n",
    "else:\n",
    "    print(f\"{num} is not present in {lst}\")"
   ]
  },
  {
   "cell_type": "markdown",
   "metadata": {},
   "source": [
    "### 7. Program to display user name, age and email in different lines."
   ]
  },
  {
   "cell_type": "code",
   "execution_count": 8,
   "metadata": {},
   "outputs": [
    {
     "name": "stdout",
     "output_type": "stream",
     "text": [
      "Please enter your name:\n",
      "Prajwal Srinivas\n",
      "Please enter your age:\n",
      "21\n",
      "Please enter your email:\n",
      "email@gmail.com\n",
      "\n",
      "Name: Prajwal Srinivas\n",
      "Age: 21\n",
      "Email: email@gmail.com\n"
     ]
    }
   ],
   "source": [
    "name = input(\"Please enter your name:\\n\")\n",
    "age = int(input(\"Please enter your age:\\n\"))\n",
    "email = input(\"Please enter your email:\\n\")\n",
    "\n",
    "user_dict = {'Name': name, 'Age': age, 'Email': email}\n",
    "\n",
    "print()\n",
    "\n",
    "for key, val in user_dict.items():\n",
    "    print(f\"{key}: {val}\")"
   ]
  },
  {
   "cell_type": "markdown",
   "metadata": {},
   "source": [
    "### 8. Program to find the sum of all numbers in a list."
   ]
  },
  {
   "cell_type": "code",
   "execution_count": 9,
   "metadata": {},
   "outputs": [
    {
     "name": "stdout",
     "output_type": "stream",
     "text": [
      "Enter elements:\n",
      "1,2,3,4,5\n",
      "Sum of all elements in the list [1, 2, 3, 4, 5] = 15\n"
     ]
    }
   ],
   "source": [
    "lst = list(map(int, input(\"Enter elements:\\n\").split(',')))\n",
    "total = 0\n",
    "for item in lst:\n",
    "    total += item\n",
    "print(f\"Sum of all elements in the list {lst} = {total}\")"
   ]
  },
  {
   "cell_type": "markdown",
   "metadata": {},
   "source": [
    "### 9. Program to check if the list is empty or not"
   ]
  },
  {
   "cell_type": "code",
   "execution_count": 10,
   "metadata": {},
   "outputs": [
    {
     "name": "stdout",
     "output_type": "stream",
     "text": [
      "Enter elements:\n",
      "5,4,3,2,1\n",
      "List is not empty\n"
     ]
    }
   ],
   "source": [
    "lst = list(input(\"Enter elements:\\n\").split(','))\n",
    "\n",
    "if lst:\n",
    "    print(\"List is not empty\")\n",
    "else:\n",
    "    print(\"List is empty\")"
   ]
  },
  {
   "cell_type": "markdown",
   "metadata": {},
   "source": [
    "### 10. Program to generate random numbers"
   ]
  },
  {
   "cell_type": "code",
   "execution_count": 11,
   "metadata": {},
   "outputs": [
    {
     "name": "stdout",
     "output_type": "stream",
     "text": [
      "How many random numbers do you want?\n",
      "5\n",
      "Enter start and end range:\n",
      "40,50\n",
      "\n",
      "5 random numbers in the range (40, 50):\n",
      "49\n",
      "40\n",
      "44\n",
      "46\n",
      "49\n"
     ]
    }
   ],
   "source": [
    "from random import randint\n",
    "\n",
    "n = int(input(\"How many random numbers do you want?\\n\"))\n",
    "start, end = lst = list(map(int, input(\"Enter start and end range:\\n\").split(',')))\n",
    "print(f\"\\n{n} random numbers in the range {start,end}:\")\n",
    "for _ in range(n):\n",
    "    print(randint(start, end))"
   ]
  },
  {
   "cell_type": "markdown",
   "metadata": {},
   "source": [
    "### 11. Program to filter prime numbers in a list."
   ]
  },
  {
   "cell_type": "code",
   "execution_count": 12,
   "metadata": {},
   "outputs": [
    {
     "name": "stdout",
     "output_type": "stream",
     "text": [
      "Enter elements:\n",
      "1,2,3,4,5,6,7,8,9,10\n",
      "Prime numbers in [1, 2, 3, 4, 5, 6, 7, 8, 9, 10] = [2, 3, 5, 7]\n"
     ]
    }
   ],
   "source": [
    "def is_prime(n):\n",
    "    if n == 1:\n",
    "        return False\n",
    "    i = 2\n",
    "    while i*i <= n:\n",
    "        if n % i == 0:\n",
    "            return False\n",
    "        i += 1\n",
    "    return True\n",
    "\n",
    "\n",
    "lst = list(map(int, input(\"Enter elements:\\n\").split(',')))\n",
    "prime_lst = list(filter(is_prime, lst))\n",
    "print(f\"Prime numbers in {lst} = {prime_lst}\")"
   ]
  },
  {
   "cell_type": "markdown",
   "metadata": {},
   "source": [
    "### 12. Program to check if a given number is an armstrong number.\n",
    "\n",
    "Armstrong number is a number that is equal to the sum of cubes of its digits."
   ]
  },
  {
   "cell_type": "code",
   "execution_count": 13,
   "metadata": {},
   "outputs": [
    {
     "name": "stdout",
     "output_type": "stream",
     "text": [
      "Enter elements:\n",
      "0,1,153,370,371,407,10,20,30,40\n",
      "Armstrong numbers in [0, 1, 153, 370, 371, 407, 10, 20, 30, 40] = [0, 1, 153, 370, 371, 407]\n"
     ]
    }
   ],
   "source": [
    "def is_armstrong(n):\n",
    "    return sum([i**3 for i in map(int, list(str(n)))]) == n\n",
    "\n",
    "\n",
    "lst = list(map(int, input(\"Enter elements:\\n\").split(',')))\n",
    "armstrong_lst = list(filter(is_armstrong, lst))\n",
    "print(f\"Armstrong numbers in {lst} = {armstrong_lst}\")"
   ]
  },
  {
   "cell_type": "code",
   "execution_count": null,
   "metadata": {},
   "outputs": [],
   "source": []
  }
 ],
 "metadata": {
  "kernelspec": {
   "display_name": "Python 3",
   "language": "python",
   "name": "python3"
  },
  "language_info": {
   "codemirror_mode": {
    "name": "ipython",
    "version": 3
   },
   "file_extension": ".py",
   "mimetype": "text/x-python",
   "name": "python",
   "nbconvert_exporter": "python",
   "pygments_lexer": "ipython3",
   "version": "3.8.5"
  }
 },
 "nbformat": 4,
 "nbformat_minor": 4
}
